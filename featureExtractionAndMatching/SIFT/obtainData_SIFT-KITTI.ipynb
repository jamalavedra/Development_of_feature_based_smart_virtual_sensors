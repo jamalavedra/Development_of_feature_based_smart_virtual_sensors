{
  "cells": [
    {
      "cell_type": "markdown",
      "metadata": {
        "id": "h1iMieK-PqlV",
        "colab_type": "text"
      },
      "source": [
        "# import dependencies"
      ]
    },
    {
      "cell_type": "code",
      "metadata": {
        "id": "arRycgesPqlY",
        "colab_type": "code",
        "outputId": "1c357db0-2444-4950-dd34-80fc702f6d77",
        "colab": {
          "base_uri": "https://localhost:8080/",
          "height": 312
        }
      },
      "source": [
        "import itertools\n",
        "import matplotlib.pyplot as plt\n",
        "import numpy as np\n",
        "from mpl_toolkits.mplot3d import Axes3D\n",
        "!pip install pykitti\n",
        "import pykitti\n",
        "# !pip uninstall opencv-contrib-python\n",
        "!pip install opencv-contrib-python==3.4.2.16\n",
        "!pip install opencv-python==3.4.2.16\n",
        "!pip install opencv-python-headless==4.1.1.26\n",
        "\n",
        "import cv2\n",
        "from matplotlib.patches import Circle\n",
        "import csv\n",
        "\n",
        "import time\n",
        "import os\n",
        "import copy\n",
        "from PIL import Image as PImage\n",
        "import io\n",
        "import math\n",
        "from scipy.spatial import distance as dist\n"
      ],
      "execution_count": 14,
      "outputs": [
        {
          "output_type": "stream",
          "text": [
            "Requirement already satisfied: pykitti in /usr/local/lib/python3.6/dist-packages (0.3.1)\n",
            "Requirement already satisfied: numpy in /usr/local/lib/python3.6/dist-packages (from pykitti) (1.18.4)\n",
            "Requirement already satisfied: pandas in /usr/local/lib/python3.6/dist-packages (from pykitti) (1.0.3)\n",
            "Requirement already satisfied: matplotlib in /usr/local/lib/python3.6/dist-packages (from pykitti) (3.2.1)\n",
            "Requirement already satisfied: Pillow in /usr/local/lib/python3.6/dist-packages (from pykitti) (7.0.0)\n",
            "Requirement already satisfied: python-dateutil>=2.6.1 in /usr/local/lib/python3.6/dist-packages (from pandas->pykitti) (2.8.1)\n",
            "Requirement already satisfied: pytz>=2017.2 in /usr/local/lib/python3.6/dist-packages (from pandas->pykitti) (2018.9)\n",
            "Requirement already satisfied: cycler>=0.10 in /usr/local/lib/python3.6/dist-packages (from matplotlib->pykitti) (0.10.0)\n",
            "Requirement already satisfied: pyparsing!=2.0.4,!=2.1.2,!=2.1.6,>=2.0.1 in /usr/local/lib/python3.6/dist-packages (from matplotlib->pykitti) (2.4.7)\n",
            "Requirement already satisfied: kiwisolver>=1.0.1 in /usr/local/lib/python3.6/dist-packages (from matplotlib->pykitti) (1.2.0)\n",
            "Requirement already satisfied: six>=1.5 in /usr/local/lib/python3.6/dist-packages (from python-dateutil>=2.6.1->pandas->pykitti) (1.12.0)\n",
            "Requirement already satisfied: opencv-contrib-python==3.4.2.16 in /usr/local/lib/python3.6/dist-packages (3.4.2.16)\n",
            "Requirement already satisfied: numpy>=1.11.3 in /usr/local/lib/python3.6/dist-packages (from opencv-contrib-python==3.4.2.16) (1.18.4)\n",
            "Requirement already satisfied: opencv-python==3.4.2.16 in /usr/local/lib/python3.6/dist-packages (3.4.2.16)\n",
            "Requirement already satisfied: numpy>=1.11.3 in /usr/local/lib/python3.6/dist-packages (from opencv-python==3.4.2.16) (1.18.4)\n",
            "Requirement already satisfied: opencv-python-headless==4.1.1.26 in /usr/local/lib/python3.6/dist-packages (4.1.1.26)\n",
            "Requirement already satisfied: numpy>=1.11.3 in /usr/local/lib/python3.6/dist-packages (from opencv-python-headless==4.1.1.26) (1.18.4)\n"
          ],
          "name": "stdout"
        }
      ]
    },
    {
      "cell_type": "code",
      "metadata": {
        "id": "ZEy6TnKoPqlp",
        "colab_type": "code",
        "outputId": "b4ed0feb-e358-410b-b44b-f1b7dd3e26d2",
        "colab": {
          "base_uri": "https://localhost:8080/",
          "height": 34
        }
      },
      "source": [
        "# run on Google Colab\n",
        "from google.colab import drive\n",
        "drive.mount('/content/drive')"
      ],
      "execution_count": 15,
      "outputs": [
        {
          "output_type": "stream",
          "text": [
            "Drive already mounted at /content/drive; to attempt to forcibly remount, call drive.mount(\"/content/drive\", force_remount=True).\n"
          ],
          "name": "stdout"
        }
      ]
    },
    {
      "cell_type": "markdown",
      "metadata": {
        "id": "9C3P04chPqlw",
        "colab_type": "text"
      },
      "source": [
        "## Load Kitti dataset"
      ]
    },
    {
      "cell_type": "code",
      "metadata": {
        "id": "1WckzthEPqlx",
        "colab_type": "code",
        "colab": {}
      },
      "source": [
        " # include the path to KITTI directory\n",
        "basedir = '/content/drive/My Drive/2011_09_26_drive_0001_sync'\n",
        "\n",
        "\n",
        "date = '2011_09_26'\n",
        "drive = '0001'\n",
        "\n",
        "dataset = pykitti.raw(basedir, date, drive)"
      ],
      "execution_count": 0,
      "outputs": []
    },
    {
      "cell_type": "markdown",
      "metadata": {
        "id": "P71vYgY7Pql5",
        "colab_type": "text"
      },
      "source": [
        "## Camera displacement utils"
      ]
    },
    {
      "cell_type": "code",
      "metadata": {
        "id": "3DFgS-iKPql7",
        "colab_type": "code",
        "colab": {}
      },
      "source": [
        "def latToScale(lat):\n",
        "# compute mercator scale from latitude\n",
        "    return math.cos(lat * math.pi / 180)\n",
        "\n",
        "def latlonToMercator(lat,lon,scale):\n",
        "# converts lat/lon coordinates to mercator coordinates using mercator scale\n",
        "    er = 6378137 # earth radius\n",
        "    mx = scale * lon * math.pi * er / 180\n",
        "    my = scale * er * math.log( math.tan((90+lat) * math.pi / 360) )\n",
        "    return mx, my\n",
        "\n",
        "def convertOxtsToPose(oxts):\n",
        "    scale = latToScale(oxts[0][0])\n",
        "    pose = []\n",
        "    Tr_0_inv = np.zeros(shape=(4,4))\n",
        "    Tr = np.zeros(shape=(4,4))\n",
        "    t = np.zeros(shape=(3, 1))\n",
        "    for i in range(len(oxts)):\n",
        "        if not oxts[i]:\n",
        "            pose.append([])\n",
        "            continue\n",
        "\n",
        "        # translation vector \n",
        "        t[0,0], t[1,0] = latlonToMercator(oxts[i][0],oxts[i][1],scale)\n",
        "        t[2,0] = oxts[i][2]\n",
        "\n",
        "        # rotation matrix (OXTS RT3000 user manual, page 71/92)\n",
        "        rx = oxts[i][3] # roll\n",
        "        ry = oxts[i][4] # pitch\n",
        "        rz = oxts[i][5] # heading \n",
        "        # base => nav  (level oxts => rotated oxts)\n",
        "        Rx = np.matrix([[1, 0, 0], [0, math.cos(rx), -math.sin(rx)], [0, math.sin(rx), math.cos(rx)]]) \n",
        "        # base => nav  (level oxts => rotated oxts)\n",
        "        Ry =  np.matrix([[math.cos(ry), 0, math.sin(ry)], [0, 1, 0], [-math.sin(ry), 0, math.cos(ry)]]) \n",
        "        # base => nav  (level oxts => rotated oxts)\n",
        "        Rz = np.matrix([[math.cos(rz), -math.sin(rz), 0], [math.sin(rz), math.cos(rz), 0], [0, 0, 1]]) \n",
        "        R  = Rz*Ry*Rx\n",
        "\n",
        "        # print(R)\n",
        "        # print(t)\n",
        "        Tr[:3, :3] = R\n",
        "        Tr[:3, 3:] = t\n",
        "        Tr[3,3] = 1\n",
        "        # normalize translation and rotation (start at 0/0/0)\n",
        "        if i == 0:\n",
        "            Tr_0_inv = np.linalg.inv(Tr)\n",
        "\n",
        "        pose.append((Tr_0_inv.dot(Tr)))\n",
        "    return np.stack(pose)"
      ],
      "execution_count": 0,
      "outputs": []
    },
    {
      "cell_type": "markdown",
      "metadata": {
        "id": "hvIF4zngPqmD",
        "colab_type": "text"
      },
      "source": [
        "## Velodyne in Camera utils"
      ]
    },
    {
      "cell_type": "code",
      "metadata": {
        "id": "H6vsjmGCPqmF",
        "colab_type": "code",
        "colab": {}
      },
      "source": [
        "# https://stackoverflow.com/questions/45333780/kitti-velodyne-point-to-pixel-coordinate\n",
        "def prepare_velo_points(pts3d_raw):\n",
        "    '''Replaces the reflectance value by 1, and tranposes the array, so\n",
        "       points can be directly multiplied by the camera projection matrix'''\n",
        "\n",
        "    pts3d = pts3d_raw\n",
        "    # Reflectance > 0\n",
        "    pts3d = pts3d[pts3d[:, 3] > 0 ,:]\n",
        "    pts3d[:,3] = 1\n",
        "    return pts3d.transpose()\n",
        "\n",
        "def project_velo_points_in_img(pts3d, T_cam_velo, Rrect, Prect):\n",
        "    '''Project 3D points into 2D image. Expects pts3d as a 4xN\n",
        "       numpy array. Returns the 2D projection of the points that\n",
        "       are in front of the camera only an the corresponding 3D points.'''\n",
        "\n",
        "    # 3D points in camera reference frame.\n",
        "    pts3d_cam = Rrect.dot(T_cam_velo.dot(pts3d))\n",
        "\n",
        "    # Before projecting, keep only points with z>0 \n",
        "    # (points that are in fronto of the camera).\n",
        "    idx = (pts3d_cam[2,:]>=0)\n",
        "    pts2d_cam = Prect.dot(pts3d_cam[:,idx])\n",
        "    return pts3d[:, idx], pts2d_cam/pts2d_cam[2,:]"
      ],
      "execution_count": 0,
      "outputs": []
    },
    {
      "cell_type": "code",
      "metadata": {
        "id": "jjENP1U_PqmK",
        "colab_type": "code",
        "colab": {}
      },
      "source": [
        "sift = cv2.xfeatures2d.SIFT_create()"
      ],
      "execution_count": 0,
      "outputs": []
    },
    {
      "cell_type": "code",
      "metadata": {
        "id": "7-xqwrIoPqmR",
        "colab_type": "code",
        "colab": {}
      },
      "source": [
        "# IX_path = '/content/drive/My Drive/TFM/ball_big.jpg'\n",
        "row_list = [[\"x_displacement\", \"y_displacement\", \"sensors_x\", \"sensors_y\", \"sensors_d\", \"sensors_e\", \"coordinates_src\", \"depth_src\",\"coordinates_dst\", \"depth_dst\"]]\n"
      ],
      "execution_count": 0,
      "outputs": []
    },
    {
      "cell_type": "markdown",
      "metadata": {
        "colab_type": "text",
        "id": "dWzwPcOYBaXr"
      },
      "source": [
        "## SIFT features utils"
      ]
    },
    {
      "cell_type": "code",
      "metadata": {
        "id": "gee7tzRjPqmX",
        "colab_type": "code",
        "colab": {}
      },
      "source": [
        "def pairwise_distance(X, Y):\n",
        "    assert len(X.shape) == len(Y.shape)\n",
        "    N = X.shape[0]\n",
        "    M = Y.shape[0]\n",
        "    # D = len(X.shape)\n",
        "    res = np.zeros([M, N])\n",
        "    for i in range(M):\n",
        "        for j in range(N):\n",
        "            res[i][j] = np.linalg.norm(X[j] - Y[i])\n",
        "    return res\n",
        "\n",
        "def match(PD):\n",
        "    seq = np.arange(PD.shape[0]) # create array of a certain shape from 0 to len\n",
        "    amin1 = np.argmin(PD, axis=1) # return smallest index from each list\n",
        "    C = np.array([seq, amin1]).transpose()\n",
        "    min1 = PD[seq, amin1] # array of the minimum distances\n",
        "    mask = np.zeros_like(PD) # return an array of zeros of the same shape as DP\n",
        "    mask[seq, amin1] = 1\n",
        "    masked = np.ma.masked_array(PD, mask) # PD without the smallest values\n",
        "    min2 = np.amin(masked, axis=1) # return smallest num in list\n",
        "    return C, np.array(min2/min1)\n",
        "\n",
        "def match_max(PD):\n",
        "    seq = np.arange(PD.shape[0])\n",
        "    amax1 = np.argmin(PD, axis=1)\n",
        "    C = np.array([seq, amax1]).transpose()\n",
        "    return C"
      ],
      "execution_count": 0,
      "outputs": []
    },
    {
      "cell_type": "markdown",
      "metadata": {
        "id": "7EDQ4YgQPqme",
        "colab_type": "text"
      },
      "source": [
        "## Features with depth utils"
      ]
    },
    {
      "cell_type": "code",
      "metadata": {
        "id": "_rs-mP8RPqmf",
        "colab_type": "code",
        "colab": {}
      },
      "source": [
        "def find2perCent(num, listPro):\n",
        "    listfeatures = []\n",
        "    Menys = 0.98 * num\n",
        "    Mes = 1.02 * num \n",
        "    for i, el in enumerate(listPro):\n",
        "        if el < Mes and el > Menys:\n",
        "            listfeatures.append(i)\n",
        "    return listfeatures"
      ],
      "execution_count": 0,
      "outputs": []
    },
    {
      "cell_type": "markdown",
      "metadata": {
        "colab_type": "text",
        "id": "VXK5lKbm3Z6l"
      },
      "source": [
        "## Main loop\n"
      ]
    },
    {
      "cell_type": "code",
      "metadata": {
        "id": "fnoEUpqBPqml",
        "colab_type": "code",
        "colab": {}
      },
      "source": [
        "oxts = []\n",
        "for pos in dataset.oxts:\n",
        "    oxt = [i for i in pos[0]]\n",
        "    oxts.append(oxt)\n",
        "\n",
        "camera_displacement = []\n",
        "pose = convertOxtsToPose(oxts)\n",
        "l = 3 # coordinate axis length\n",
        "A = np.array([[0, 0, 0, 1], [l, 0, 0, 1], [0, 0, 0, 1], [0, l, 0, 1], [0, 0, 0, 1], [0, 0, l, 1]]).transpose()"
      ],
      "execution_count": 0,
      "outputs": []
    },
    {
      "cell_type": "code",
      "metadata": {
        "tags": [
          "outputPrepend",
          "outputPrepend",
          "outputPrepend",
          "outputPrepend",
          "outputPrepend",
          "outputPrepend",
          "outputPrepend",
          "outputPrepend",
          "outputPrepend",
          "outputPrepend",
          "outputPrepend",
          "outputPrepend",
          "outputPrepend",
          "outputPrepend",
          "outputPrepend",
          "outputPrepend",
          "outputPrepend",
          "outputPrepend",
          "outputPrepend",
          "outputPrepend",
          "outputPrepend",
          "outputPrepend",
          "outputPrepend",
          "outputPrepend",
          "outputPrepend",
          "outputPrepend",
          "outputPrepend",
          "outputPrepend",
          "outputPrepend",
          "outputPrepend",
          "outputPrepend",
          "outputPrepend",
          "outputPrepend",
          "outputPrepend",
          "outputPrepend",
          "outputPrepend",
          "outputPrepend",
          "outputPrepend",
          "outputPrepend",
          "outputPrepend",
          "outputPrepend",
          "outputPrepend",
          "outputPrepend",
          "outputPrepend",
          "outputPrepend",
          "outputPrepend",
          "outputPrepend",
          "outputPrepend",
          "outputPrepend",
          "outputPrepend",
          "outputPrepend",
          "outputPrepend",
          "outputPrepend",
          "outputPrepend",
          "outputPrepend",
          "outputPrepend",
          "outputPrepend",
          "outputPrepend",
          "outputPrepend",
          "outputPrepend"
        ],
        "id": "HjUyQFwRPqmq",
        "colab_type": "code",
        "colab": {
          "base_uri": "https://localhost:8080/",
          "height": 237
        },
        "outputId": "d08a0a9c-5f05-4f6b-c877-c24a7d33dfc4"
      },
      "source": [
        "index = 0\n",
        "frames = 5\n",
        "depth = False\n",
        "for j, cam3 in enumerate(dataset.cam3):\n",
        "    B = pose[j].dot(A)\n",
        "    pts3d = prepare_velo_points(dataset.get_velo(j))\n",
        "    if j == 0:\n",
        "        IX = np.array(cam3.convert('RGB'))\n",
        "        sizeX = IX.shape[1]\n",
        "        sizeY = IX.shape[0]\n",
        "        IX = IX[:, :, ::-1].copy() \n",
        "        projectionX = project_velo_points_in_img(pts3d, dataset.calib.T_cam3_velo, dataset.calib.R_rect_30,dataset.calib.P_rect_30)\n",
        "\n",
        "    elif j%frames ==0:\n",
        "        projectionY = project_velo_points_in_img(pts3d, dataset.calib.T_cam3_velo, dataset.calib.R_rect_30,dataset.calib.P_rect_30)\n",
        "        IY = np.array(cam3.convert('RGB'))\n",
        "        IY = IY[:, :, ::-1].copy() \n",
        "        kp1, des1 = sift.detectAndCompute(IX, None)\n",
        "        kp2, des2 = sift.detectAndCompute(IY, None)\n",
        "        bf = cv2.BFMatcher()\n",
        "        matches = bf.match(des1, des2)\n",
        "        matches = sorted(matches, key=lambda x: x.distance)\n",
        "        num_matches = len(matches)\n",
        "        matches = matches[:130]\n",
        "        Xscaled = []\n",
        "        Yscaled = []\n",
        "        for m in matches:\n",
        "            Xscaled.append(kp1[m.queryIdx].pt)\n",
        "            Yscaled.append(kp2[m.trainIdx].pt)\n",
        "        Xscaled = np.array(Xscaled)\n",
        "        Yscaled = np.array(Yscaled)\n",
        "        if depth:\n",
        "            featureWithDepthX = np.zeros(shape=(Xscaled.shape[0], Xscaled.shape[1] +2), dtype=np.float64)\n",
        "            featureWithDepthY = np.zeros(shape=(Yscaled.shape[0], Yscaled.shape[1] +2), dtype=np.float64)\n",
        "\n",
        "            projectionX_roundedX = [round(i, 1) for i in projectionX[1][0]]\n",
        "            projectionX_roundedY = [round(i, 1) for i in projectionX[1][1]]\n",
        "            projectionY_roundedX = [round(i, 1) for i in projectionY[1][0]]\n",
        "            projectionY_roundedY = [round(i, 1) for i in projectionY[1][1]]\n",
        "\n",
        "            for i, feature in enumerate(Xscaled):\n",
        "                listindX =find2perCent(round(feature[0], 1), projectionX_roundedX)\n",
        "                listindY =find2perCent(round(feature[1], 1), projectionX_roundedY)\n",
        "                if len(listindY) > 0 and len(listindX) > 0:\n",
        "                    cand = set(listindX).intersection(listindY) # detect coordindates \n",
        "                    if len(cand)>0:\n",
        "                        featureWithDepthX[i] = np.append(feature, [True, projectionX[0][0][cand.pop()]])\n",
        "\n",
        "            for i, feature in enumerate(Yscaled):\n",
        "                listindX =find2perCent(round(feature[0], 1), projectionY_roundedX)\n",
        "                listindY =find2perCent(round(feature[1], 1), projectionY_roundedY)\n",
        "                if len(listindY) > 0 and len(listindX) > 0:\n",
        "                    cand = set(listindX).intersection(listindY) # detect coordindates \n",
        "                    if len(cand)>0:\n",
        "                        featureWithDepthY[i] = np.append(feature, [True, projectionY[0][0][cand.pop()]])\n",
        "        else:\n",
        "            featureWithDepthX = Xscaled\n",
        "            featureWithDepthY = Yscaled\n",
        "\n",
        "        difference_listX = []\n",
        "        difference_listY = []\n",
        "        difference_listZ = []\n",
        "        euclideanDistance_list = []\n",
        "\n",
        "        coordinatesSRC = []\n",
        "        coordinatesDST = []\n",
        "        depthListSRC = []\n",
        "        depthListDST = []\n",
        "\n",
        "        for i, pnt in enumerate(featureWithDepthX):\n",
        "            if depth:\n",
        "                if pnt[2] == True and featureWithDepthY[i][2] == True:\n",
        "                    src_x = (pnt[1])\n",
        "                    src_y = (pnt[0])\n",
        "                    dst_x = (featureWithDepthY[i][1])\n",
        "                    dst_y = (featureWithDepthY[i][0])\n",
        "\n",
        "                    difference_listX.append(src_x - dst_x)\n",
        "                    difference_listY.append(src_y - dst_y)\n",
        "                    difference_listZ.append(featureWithDepthX[i][3] - featureWithDepthY[i][3])\n",
        "                    euclideanDistance_list.append(dist.euclidean((src_x, src_y), (dst_x, dst_y)))\n",
        "\n",
        "                    coordinatesSRC.append(src_x/sizeX)\n",
        "                    coordinatesSRC.append(src_y/sizeY)\n",
        "                    depthListSRC.append(featureWithDepthX[i][3])\n",
        "\n",
        "                    coordinatesDST.append(dst_x/sizeX)\n",
        "                    coordinatesDST.append(dst_y/sizeY)\n",
        "                    depthListDST.append(featureWithDepthY[i][3])\n",
        "\n",
        "            else:\n",
        "                src_x = (pnt[1])\n",
        "                src_y = (pnt[0])\n",
        "                dst_x = (featureWithDepthY[i][1])\n",
        "                dst_y = (featureWithDepthY[i][0])\n",
        "\n",
        "                difference_listX.append(src_x - dst_x)\n",
        "                difference_listY.append(src_y - dst_y)\n",
        "                euclideanDistance_list.append(dist.euclidean((src_x, src_y), (dst_x, dst_y)))\n",
        "\n",
        "                depthListSRC.append(1)\n",
        "                coordinatesSRC.append(src_x/sizeX)\n",
        "                coordinatesSRC.append(src_y/sizeY)\n",
        "\n",
        "                depthListDST.append(1)\n",
        "                coordinatesDST.append(dst_x/sizeX)\n",
        "                coordinatesDST.append(dst_y/sizeY)\n",
        "                \n",
        "\n",
        "        x_displacement = B[0,0:2][0] - pose[j-frames].dot(A)[0,0:2][0]\n",
        "        y_displacement = B[1,2:4][0] - pose[j-frames].dot(A)[1,2:4][0]\n",
        "        index +=1\n",
        "        \n",
        "        row_list.append([x_displacement, y_displacement, difference_listX, difference_listY,difference_listZ, euclideanDistance_list, coordinatesSRC, depthListSRC, coordinatesDST, depthListDST])\n",
        "\n",
        "        IX = IY\n",
        "        projectionX = projectionY"
      ],
      "execution_count": 24,
      "outputs": []
    },
    {
      "cell_type": "markdown",
      "metadata": {
        "colab_type": "text",
        "id": "PdjmejRA3dTN"
      },
      "source": [
        "## Create the CSV file"
      ]
    },
    {
      "cell_type": "code",
      "metadata": {
        "id": "qT03nis3Pqmz",
        "colab_type": "code",
        "colab": {}
      },
      "source": [
        "with open('kitti0001_SIFTDepthless-sensors.csv', 'w', newline='') as myfile:\n",
        "    writer = csv.writer(myfile, quoting=csv.QUOTE_NONNUMERIC, delimiter=',')\n",
        "    writer.writerows(row_list)\n"
      ],
      "execution_count": 0,
      "outputs": []
    }
  ],
  "metadata": {
    "orig_nbformat": 2,
    "file_extension": ".py",
    "mimetype": "text/x-python",
    "name": "python",
    "npconvert_exporter": "python",
    "pygments_lexer": "ipython3",
    "version": 3,
    "kernelspec": {
      "name": "tfm",
      "display_name": "TFM"
    },
    "colab": {
      "name": "obtainData_ConvolutionalFeatures.ipynb",
      "provenance": [],
      "toc_visible": true
    },
    "accelerator": "GPU"
  },
  "nbformat": 4,
  "nbformat_minor": 0
}
