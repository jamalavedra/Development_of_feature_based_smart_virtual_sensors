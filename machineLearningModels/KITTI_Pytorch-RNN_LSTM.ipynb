{
  "cells": [
    {
      "cell_type": "code",
      "metadata": {
        "id": "HWLCd4fS7WRu",
        "colab_type": "code",
        "colab": {}
      },
      "source": [
        "import sys\n",
        "# !{sys.executable} -m pip install sklearn\n",
        "# !{sys.executable} -m pip install torch\n",
        "import numpy as np\n",
        "import csv\n",
        "import matplotlib.pyplot as plt\n",
        "import pandas as pd\n",
        "import torch\n",
        "import torch.nn as nn\n",
        "import torch.nn.init as init\n",
        "from torch.autograd import Variable\n",
        "from sklearn.preprocessing import MinMaxScaler\n",
        "from sklearn.model_selection import train_test_split\n",
        "import warnings \n",
        "from ast import literal_eval\n",
        "from laplotter import LossAccPlotter\n",
        "from laplotter_prediction import PredictionPlotter\n",
        "import math\n",
        "\n",
        "warnings.filterwarnings('ignore')\n",
        "warnings.filterwarnings('ignore', category=DeprecationWarning)\n",
        "torch.manual_seed(43) # for reproducibility"
      ],
      "execution_count": 1,
      "outputs": [
        {
          "output_type": "execute_result",
          "data": {
            "text/plain": "<torch._C.Generator at 0x7ff50604dd90>"
          },
          "metadata": {},
          "execution_count": 1
        }
      ]
    },
    {
      "cell_type": "code",
      "metadata": {
        "id": "8NPs8Dth7WSG",
        "colab_type": "code",
        "colab": {
          "base_uri": "https://localhost:8080/",
          "height": 34
        },
        "outputId": "7990b985-cabe-4949-a428-68ca7953a4ff",
        "tags": []
      },
      "source": [
        "# Depthless\n",
        "# training_set = pd.read_csv('../CSV_files/KITTI/SIFT/kitti_SIFT-sensorsALL.csv')\n",
        "# training_set = pd.read_csv('../CSV_files/KITTI/SIFT/kitti0093_SIFT-sensorsALL.csv')\n",
        "training_set = pd.read_csv('../CSV_files/KITTI/SIFT/kitti0095_SIFT-sensorsALL.csv')\n",
        "\n",
        "# training_set = pd.read_csv('../CSV_files/SIFT/kitti0095_SIFTDepthless-sensorsALL.csv')\n",
        "\n",
        "dataSet_len = len(training_set)\n",
        "print(f\"number of frames: {dataSet_len}\")\n",
        "featuresAreCoordinates = True # When false, displacement is used.\n",
        "depthStatus = True # Using depth information\n",
        "testModel = True # Avoid saving the model and re-ploting the loss\n",
        "sequence_len = 1"
      ],
      "execution_count": 2,
      "outputs": [
        {
          "output_type": "stream",
          "name": "stdout",
          "text": "number of frames: 267\n"
        }
      ]
    },
    {
      "cell_type": "code",
      "metadata": {
        "id": "ZqngjDew7WSd",
        "colab_type": "code",
        "colab": {}
      },
      "source": [
        "distance_sensorData = [literal_eval(i) for i in training_set['sensors_e']]\n",
        "x_sensorData = [literal_eval(i) for i in training_set['sensors_x']]\n",
        "y_sensorData = [literal_eval(i) for i in training_set['sensors_y']]\n",
        "z_sensorData = [literal_eval(i) for i in training_set['sensors_d']]\n",
        "target_dataX = training_set['x_displacement']\n",
        "target_dataY = training_set['y_displacement']\n",
        "coordinatesSRC = [literal_eval(i) for i in training_set['coordinates_src']]\n",
        "coordinatesDST = [literal_eval(i) for i in training_set['coordinates_dst']]\n",
        "depthSRC = [literal_eval(i) for i in training_set['depth_src']]\n",
        "depthDST = [literal_eval(i) for i in training_set['depth_dst']]"
      ],
      "execution_count": 3,
      "outputs": []
    },
    {
      "cell_type": "code",
      "metadata": {
        "id": "O1d8ooaM7WSo",
        "colab_type": "code",
        "colab": {
          "base_uri": "https://localhost:8080/",
          "height": 69
        },
        "outputId": "01ea6ef6-4426-4634-849d-ae411149c213",
        "tags": []
      },
      "source": [
        "numberOfSensorsList = [len(i) for i in distance_sensorData]\n",
        "meanOfSensors = sum(numberOfSensorsList)//len(numberOfSensorsList)\n",
        "maxNumberSensors = max(numberOfSensorsList)\n",
        "minNumberSensors = min(numberOfSensorsList)\n",
        "meanOfSensors = 51\n",
        "print(f\"max amount of sensors: {maxNumberSensors}\")\n",
        "print(f\"min amount of sensors: {minNumberSensors}\")\n",
        "print(f\"mean amount of sensors: {meanOfSensors}\")"
      ],
      "execution_count": 4,
      "outputs": [
        {
          "output_type": "stream",
          "name": "stdout",
          "text": "max amount of sensors: 69\nmin amount of sensors: 22\nmean amount of sensors: 51\n"
        }
      ]
    },
    {
      "cell_type": "code",
      "metadata": {
        "id": "7UnRkPA97WS0",
        "colab_type": "code",
        "colab": {}
      },
      "source": [
        "def standarizeSensors(list_sensors, threshold):\n",
        "    while len(list_sensors) != threshold:\n",
        "        if len(list_sensors) < threshold:\n",
        "            list_sensors.append(0.0)\n",
        "        elif len(list_sensors) > threshold:\n",
        "            list_sensors = list_sensors[:threshold]\n",
        "    return list_sensors"
      ],
      "execution_count": 5,
      "outputs": []
    },
    {
      "cell_type": "code",
      "metadata": {
        "tags": [],
        "id": "voVPQ9ot7WTC",
        "colab_type": "code",
        "colab": {}
      },
      "source": [
        "# trim to normalized number of sensors\n",
        "distance_sensorData = [standarizeSensors(i, meanOfSensors) for i in distance_sensorData]\n",
        "x_sensorData = [standarizeSensors(i, meanOfSensors) for i in x_sensorData]\n",
        "y_sensorData = [standarizeSensors(i, meanOfSensors) for i in y_sensorData]\n",
        "z_sensorData = [standarizeSensors(i, meanOfSensors) for i in z_sensorData]\n",
        "depthSRC = [standarizeSensors(i, meanOfSensors) for i in depthSRC]\n",
        "depthDST = [standarizeSensors(i, meanOfSensors) for i in depthDST]\n",
        "coordinatesSRC = [standarizeSensors(i, meanOfSensors*2) for i in coordinatesSRC]\n",
        "coordinatesDST = [standarizeSensors(i, meanOfSensors*2) for i in coordinatesDST]"
      ],
      "execution_count": 6,
      "outputs": []
    },
    {
      "cell_type": "code",
      "metadata": {
        "id": "Nxi-r-cQ7WTK",
        "colab_type": "code",
        "colab": {}
      },
      "source": [
        "# normalize information\n",
        "scFeatures = MinMaxScaler()\n",
        "distance_sensorData = scFeatures.fit_transform(distance_sensorData)\n",
        "x_sensorData = scFeatures.fit_transform(x_sensorData)\n",
        "y_sensorData = scFeatures.fit_transform(y_sensorData)\n",
        "z_sensorData = scFeatures.fit_transform(z_sensorData)\n",
        "depthSRC = scFeatures.fit_transform(depthSRC)\n",
        "depthDST = scFeatures.fit_transform(depthDST)"
      ],
      "execution_count": 7,
      "outputs": []
    },
    {
      "cell_type": "code",
      "metadata": {
        "id": "6Q7UrgOo7WTg",
        "colab_type": "code",
        "colab": {}
      },
      "source": [
        "df_target = pd.DataFrame({'x_displacement':target_dataX,'y_displacement':target_dataY})"
      ],
      "execution_count": 8,
      "outputs": []
    },
    {
      "cell_type": "code",
      "execution_count": 9,
      "metadata": {},
      "outputs": [],
      "source": [
        "displacement_depth = 3\n",
        "if not featuresAreCoordinates:\n",
        "    feature_data = []\n",
        "    for i in range(dataSet_len):\n",
        "        if depthStatus:\n",
        "            displacement_depth = 4\n",
        "            feature_data.append([x_sensorData[i], y_sensorData[i], distance_sensorData[i], z_sensorData[i]])\n",
        "        else:\n",
        "            feature_data.append([x_sensorData[i], y_sensorData[i], distance_sensorData[i]])\n",
        "    feature_data = np.array(feature_data)\n",
        "    print(feature_data.shape)\n",
        "    # feature_data = feature_data.transpose((0, 2, 1))\n",
        "    feature_data = feature_data.reshape(feature_data.shape[0], 1, -1)\n",
        "    print(feature_data.shape)"
      ]
    },
    {
      "cell_type": "code",
      "metadata": {
        "id": "Wi2cAFmS7WTy",
        "colab_type": "code",
        "colab": {},
        "tags": []
      },
      "source": [
        "coordinates_depth = 4\n",
        "if featuresAreCoordinates:\n",
        "    if depthStatus:\n",
        "        coordinates_depth = 6\n",
        "        depthSRCList = depthSRC.tolist()\n",
        "        depthDSTList = depthDST.tolist()\n",
        "        for i in range(dataSet_len):\n",
        "            coordinatesSRC[i].extend(depthSRCList[i])\n",
        "            coordinatesSRC[i].extend(coordinatesDST[i])\n",
        "            coordinatesSRC[i].extend(depthDSTList[i])\n",
        "    else:\n",
        "        for i in range(dataSet_len):\n",
        "            coordinatesSRC[i].extend(coordinatesDST[i])\n",
        "\n",
        "    feature_data = np.array(coordinatesSRC)\n",
        "    print(feature_data.shape)"
      ],
      "execution_count": 10,
      "outputs": [
        {
          "output_type": "stream",
          "name": "stdout",
          "text": "(267, 306)\n"
        }
      ]
    },
    {
      "cell_type": "code",
      "metadata": {
        "id": "HESMelDT7WUE",
        "colab_type": "code",
        "colab": {
          "base_uri": "https://localhost:8080/",
          "height": 334
        },
        "outputId": "6e2939cb-d99d-4dac-ca23-1bdf6cb1e35e"
      },
      "source": [
        "fig,ax = plt.subplots(1, figsize=(7,5))\n",
        "# x_coordi = [i[0] for i in camera_displacement]\n",
        "# ax.scatter(target_dataX, target_dataY)\n",
        "x_coordi, y_coordi = [0], [0]\n",
        "ctr = 0\n",
        "for i, j in zip(target_dataX.to_list(), target_dataY.to_list()):\n",
        "    x_coordi.append(i +  x_coordi[ctr])\n",
        "    y_coordi.append(j +  y_coordi[ctr])\n",
        "    ctr +=1\n",
        "ax.plot(x_coordi, y_coordi)\n",
        "ax.set_xlabel('x')\n",
        "ax.set_ylabel('y')\n",
        "plt.show()"
      ],
      "execution_count": 11,
      "outputs": []
    },
    {
      "cell_type": "code",
      "metadata": {
        "id": "AuUb4eL47WUT",
        "colab_type": "code",
        "colab": {
          "base_uri": "https://localhost:8080/",
          "height": 265
        },
        "outputId": "7237b99c-8b53-40a4-bf1f-40f0141b094a"
      },
      "source": [
        "sc = MinMaxScaler()\n",
        "target_data = sc.fit_transform(df_target)\n",
        "plt.plot( target_data, label = 'target_data normalized')\n",
        "plt.legend()\n",
        "plt.show()"
      ],
      "execution_count": 12,
      "outputs": []
    },
    {
      "cell_type": "markdown",
      "metadata": {
        "id": "hhXb2BXv7WUc",
        "colab_type": "text"
      },
      "source": [
        "## Dataloading"
      ]
    },
    {
      "cell_type": "code",
      "metadata": {
        "id": "lMXaKRLHvLQi",
        "colab_type": "code",
        "colab": {}
      },
      "source": [
        "def scaling_window(data, seq_length):\n",
        "    x = []\n",
        "    for i in range(len(data)-seq_length-1):\n",
        "        _x = data[i:(i+seq_length)]\n",
        "        x.append(_x)\n",
        "\n",
        "    return np.array(x)\n",
        "if featuresAreCoordinates:\n",
        "    feature_data = scaling_window(feature_data, sequence_len)\n",
        "    target_data = target_data[:feature_data.shape[0]]\n",
        "    dataSet_len = feature_data.shape[0]"
      ],
      "execution_count": 13,
      "outputs": []
    },
    {
      "cell_type": "code",
      "metadata": {
        "tags": [],
        "id": "jVczOZhL7WUe",
        "colab_type": "code",
        "colab": {}
      },
      "source": [
        "learning_rate = 0.001\n",
        "epochs = 1500\n",
        "if featuresAreCoordinates:\n",
        "    input_size = meanOfSensors*coordinates_depth\n",
        "else:\n",
        "    input_size = meanOfSensors*displacement_depth\n",
        "hidden_size = 400\n",
        "num_layers = 1 # use only one LSTM cell\n",
        "output_size = 2\n",
        "Shuff = True\n",
        "if testModel:\n",
        "    Shuff = False\n",
        "X_train, X_test, y_train, y_test = train_test_split(feature_data, target_data, test_size = 0.3, shuffle= Shuff)\n",
        "\n",
        "dataX = torch.Tensor(feature_data)\n",
        "dataY = torch.Tensor(target_data)\n",
        "\n",
        "trainX = torch.Tensor(X_train)\n",
        "trainY = torch.Tensor(y_train)\n",
        "\n",
        "testX = torch.Tensor(X_test)\n",
        "testY = torch.Tensor(y_test)\n"
      ],
      "execution_count": 14,
      "outputs": []
    },
    {
      "cell_type": "markdown",
      "metadata": {
        "id": "DmbnVAFR7WUm",
        "colab_type": "text"
      },
      "source": [
        "in RNN, Weights are initialized in the recurrent neural network using normal distribution with zero mean. W1 will represent acceptance of input variables and w2 will represent the output which is generated as shown below.\n",
        "## Model"
      ]
    },
    {
      "cell_type": "code",
      "metadata": {
        "id": "eyZ3qLc27WUm",
        "colab_type": "code",
        "colab": {}
      },
      "source": [
        "class LSTM(nn.Module):\n",
        "\n",
        "    def __init__(self, output_size, input_size, hidden_size, num_layers):\n",
        "        super(LSTM, self).__init__()\n",
        "        \n",
        "        self.num_layers = num_layers\n",
        "        self.input_size = input_size\n",
        "        self.hidden_size = hidden_size\n",
        "        # define the LSTM layer\n",
        "        self.lstm = nn.LSTM(input_size=input_size, hidden_size=hidden_size,\n",
        "                            num_layers=num_layers, batch_first=True)\n",
        "        # define the output layer\n",
        "        self.fc = nn.Linear(hidden_size, output_size)\n",
        "\n",
        "    def forward(self, x):\n",
        "        # Forward pass through the LSTM layer\n",
        "        h_0 = Variable(torch.zeros(\n",
        "            self.num_layers, x.size(0), self.hidden_size))\n",
        "        c_0 = Variable(torch.zeros(\n",
        "            self.num_layers, x.size(0), self.hidden_size))\n",
        "        \n",
        "        # Propagate input through LSTM\n",
        "        ula, (h_out, _) = self.lstm(x, (h_0, c_0))\n",
        "        h_out = h_out.view(-1, self.hidden_size)\n",
        "        out = self.fc(h_out)\n",
        "        \n",
        "        return out"
      ],
      "execution_count": 15,
      "outputs": []
    },
    {
      "cell_type": "code",
      "metadata": {
        "id": "OfuXyRRt7WUu",
        "colab_type": "code",
        "colab": {
          "base_uri": "https://localhost:8080/",
          "height": 34
        },
        "outputId": "2b03b342-d4ba-4ead-819d-aa5995e8dbc1",
        "tags": []
      },
      "source": [
        "lstm = LSTM(output_size, input_size, hidden_size, num_layers)\n",
        "if testModel:\n",
        "    print(\"loading model ...\")\n",
        "    lstm.load_state_dict(torch.load('MODELS/KITTI/XYZ-all_SIFT.pth'))\n",
        "criterion = torch.nn.MSELoss()    # mean-squared error for regression\n",
        "optimizer = torch.optim.Adam(lstm.parameters(), lr=learning_rate)\n",
        "train_lossList = []\n",
        "test_lossList = []"
      ],
      "execution_count": 16,
      "outputs": [
        {
          "output_type": "stream",
          "name": "stdout",
          "text": "loading model ...\n"
        }
      ]
    },
    {
      "cell_type": "code",
      "metadata": {
        "scrolled": true,
        "id": "Mj7L2bU57WU1",
        "colab_type": "code",
        "colab": {},
        "tags": []
      },
      "source": [
        "if not testModel:\n",
        "    lstm.train()\n",
        "    # Train the model\n",
        "    for epoch in range(epochs):\n",
        "        # Clear stored gradient\n",
        "        lstm.zero_grad()\n",
        "        \n",
        "        # forward pass\n",
        "        outputs_train = lstm(trainX)\n",
        "        # Zero out gradient, else they will accumulate between epoch\n",
        "        optimizer.zero_grad()\n",
        "        # obtain the loss function\n",
        "        loss_train = criterion(outputs_train, trainY)\n",
        "        if loss_train < 1:\n",
        "            train_lossList.append(loss_train.item())\n",
        "\n",
        "        outputs_test = lstm(testX)\n",
        "        loss_test = criterion(outputs_test, testY)\n",
        "        if loss_train < 1:\n",
        "            test_lossList.append(loss_test.item())\n",
        "\n",
        "        loss_train.backward() # computes the gradients\n",
        "        optimizer.step() # updates the weights\n",
        "        if epoch % 100 == 0:\n",
        "            print(\"Epoch: %d, MSE loss: %1.5f\" % (epoch, loss_train.item()))\n",
        "        if epoch == (epochs-1):\n",
        "            print(\"MSE:  %1.5f, RMSE: %1.5f\" % (loss_train.item(), math.sqrt(loss_train.item())))"
      ],
      "execution_count": 17,
      "outputs": []
    },
    {
      "cell_type": "code",
      "metadata": {
        "tags": [],
        "id": "OJWZ4k0p7WU7",
        "colab_type": "code",
        "colab": {}
      },
      "source": [
        "#Saving a checkpoint\n",
        "if not testModel:\n",
        "    print(\"saving model ...\")\n",
        "    torch.save(lstm.state_dict(), 'MODELS/KITTI/XYZ-all_SIFT.pth')"
      ],
      "execution_count": 18,
      "outputs": []
    },
    {
      "cell_type": "code",
      "metadata": {
        "id": "gNZ1xGSJ7WVC",
        "colab_type": "code",
        "colab": {
          "base_uri": "https://localhost:8080/",
          "height": 311
        },
        "outputId": "932d1ddc-20de-4142-f005-73ad891020ff",
        "tags": []
      },
      "source": [
        "lstm.eval() # sets the model to evaluation mode\n",
        "test_predict = lstm(testX)\n",
        "real_loss = criterion(test_predict, testY)\n",
        "test_predict = test_predict.data.numpy()\n",
        "\n",
        "if not testModel:\n",
        "    plotter = PredictionPlotter(title=\"Camera displacement prediction\", save_to_filepath=\"PLOTS/KITTI/XYZ-all_SIFT_Prediction-TEST.png\")\n",
        "\n",
        "    # add them all\n",
        "    for frame in range(len(testX)):\n",
        "        # deactivate redrawing after each update\n",
        "        plotter.add_values(frame, loss_train=testY[:,0][frame], loss_val=test_predict[:,0][frame], acc_train=testY[:,1][frame], acc_val=test_predict[:,1][frame], redraw=False)\n",
        "\n",
        "    # redraw once at the end\n",
        "    plotter.redraw()\n",
        "\n",
        "\n",
        "plt.plot(test_predict[:,0], label = \"real X\")\n",
        "plt.plot(testY[:,0], label = \"prediction X\",linestyle=\":\", alpha=0.8)\n",
        "plt.plot(test_predict[:,1], label = \"real Y\")\n",
        "plt.plot(testY[:,1], label = \"prediction Y\", linestyle=\":\", alpha=0.8)\n",
        "\n",
        "plt.suptitle('Test Normalized Displacement Prediction')\n",
        "plt.legend()\n",
        "plt.show()\n",
        "\n",
        "print(\"MSE:  %1.5f, RMSE: %1.5f\" % (real_loss.item(), math.sqrt(real_loss.item())))\n"
      ],
      "execution_count": 19,
      "outputs": []
    },
    {
      "cell_type": "code",
      "metadata": {
        "id": "NSuNEBta7WVa",
        "colab_type": "code",
        "colab": {
          "base_uri": "https://localhost:8080/",
          "height": 294
        },
        "outputId": "525fdee4-ff71-4c32-fd99-45d18faa9a4f",
        "tags": []
      },
      "source": [
        "train_predict = lstm(dataX)\n",
        "real_loss = criterion(train_predict, dataY)\n",
        "data_predict = train_predict.data.numpy()\n",
        "dataY_plot = dataY.data.numpy()\n",
        "\n",
        "print(f\"TOTAL RMSE: {math.sqrt(real_loss.item())}\")\n",
        "\n",
        "plt.plot(dataY_plot[:,0], label = \"real X\")\n",
        "plt.plot(data_predict[:,0], label = \"prediction X\",linestyle=\":\", alpha=0.8)\n",
        "plt.plot(dataY_plot[:,1], label = \"real Y\")\n",
        "plt.plot(data_predict[:,1], label = \"prediction Y\", linestyle=\":\", alpha=0.8)\n",
        "\n",
        "plt.suptitle('Local Normalized Displacement Prediction')\n",
        "plt.legend()\n",
        "plt.show()"
      ],
      "execution_count": 20,
      "outputs": []
    },
    {
      "cell_type": "code",
      "metadata": {
        "id": "_BVQVOjI7WVk",
        "colab_type": "code",
        "colab": {
          "base_uri": "https://localhost:8080/",
          "height": 311
        },
        "outputId": "33338210-cc17-409c-f5e4-e0450af637fa"
      },
      "source": [
        "dataSet_lenList = [i for i in range(dataSet_len)]\n",
        "plt.scatter(dataSet_lenList, dataY_plot[:,1], s=1)\n",
        "plt.scatter(dataSet_lenList, data_predict[:,1], s=1)\n",
        "plt.suptitle('Local Normalized Scatter Displacement Prediction')\n",
        "plt.show()"
      ],
      "execution_count": 21,
      "outputs": []
    },
    {
      "cell_type": "code",
      "metadata": {
        "id": "FScsd8g17WVp",
        "colab_type": "code",
        "colab": {
          "base_uri": "https://localhost:8080/",
          "height": 514
        },
        "outputId": "1c7fee4d-b84f-4ba0-fc00-d4beefc33342"
      },
      "source": [
        "# create empty table with 12 fields\n",
        "trainPredict_dataset_like = np.zeros(shape=(len(target_data), 2) )\n",
        "\n",
        "# put the predicted values in the right field\n",
        "trainPredict_dataset_like[:, 0] = data_predict[:,0]\n",
        "trainPredict_dataset_like[:, 1] = data_predict[:,1]\n",
        "\n",
        "# inverse transform and then select the right field\n",
        "data_predictX = sc.inverse_transform(trainPredict_dataset_like)[:,0]\n",
        "data_predictY = sc.inverse_transform(trainPredict_dataset_like)[:,1]\n",
        "\n",
        "trainPredict_dataset_like[:, 0] = dataY_plot[:,0]\n",
        "trainPredict_dataset_like[:, 1] = dataY_plot[:,1]\n",
        "data_realX = sc.inverse_transform(trainPredict_dataset_like)[:,0]\n",
        "data_realY = sc.inverse_transform(trainPredict_dataset_like)[:,1]\n",
        "\n",
        "if testModel:\n",
        "    pred_plotter = PredictionPlotter(title=\"Camera displacement prediction\", save_to_filepath=\"PLOTS/KITTI/XYZ0095-all_SIFT_Prediction.png\")\n",
        "else:\n",
        "    pred_plotter = PredictionPlotter(title=\"Camera displacement prediction\", save_to_filepath=\"PLOTS/KITTI/XYZ-all_SIFT_Prediction.png\")\n",
        "\n",
        "\n",
        "# add them all\n",
        "for frame in range(len(data_realX)):\n",
        "    # deactivate redrawing after each update\n",
        "    pred_plotter.add_values(frame, loss_train=data_realX[frame], loss_val=data_predictX[frame], acc_train=data_realY[frame], acc_val=data_predictY[frame], redraw=False)\n",
        "\n",
        "# redraw once at the end\n",
        "pred_plotter.redraw()"
      ],
      "execution_count": 22,
      "outputs": []
    },
    {
      "cell_type": "code",
      "execution_count": 23,
      "metadata": {
        "tags": []
      },
      "outputs": [],
      "source": [
        "if testModel:\n",
        "    import csv\n",
        "    row_list = [[\"x_traget\", \"y_target\", \"x_prediction\", \"y_prediction\"]]\n",
        "    row_list.append([target_dataX.to_list(), target_dataY.to_list(), data_predictX.tolist(), data_predictY.tolist()])\n",
        "    with open('KITTI_temp.csv', 'w', newline='') as myfile:\n",
        "        writer = csv.writer(myfile, quoting=csv.QUOTE_NONNUMERIC, delimiter=',')\n",
        "        writer.writerows(row_list)"
      ]
    },
    {
      "cell_type": "code",
      "metadata": {
        "id": "fVohoq1H7WVw",
        "colab_type": "code",
        "colab": {
          "base_uri": "https://localhost:8080/",
          "height": 370
        },
        "outputId": "dc133b2c-c047-45b8-baaf-0cbd6e0eb368"
      },
      "source": [
        "fig,ax = plt.subplots(1, figsize=(7,5))\n",
        "# x_coordi = [i[0] for i in camera_displacement]\n",
        "# ax.scatter(target_dataX, target_dataY)\n",
        "x_coordi_pred, y_coordi_pred = [0], [0]\n",
        "\n",
        "ctr = 0\n",
        "for i, j in zip(data_predictX, data_predictY):\n",
        "    x_coordi_pred.append(i +  x_coordi_pred[ctr])\n",
        "    y_coordi_pred.append(j +  y_coordi_pred[ctr])\n",
        "    ctr +=1\n",
        "ax.plot(x_coordi, y_coordi, label = \"real\")\n",
        "ax.plot(x_coordi_pred, y_coordi_pred, label = \"prediction\")\n",
        "ax.set_xlabel('x displacement (meters')\n",
        "ax.set_ylabel('y displacement (meters)')\n",
        "plt.suptitle('Accumulated Displacement Prediction')\n",
        "plt.legend()\n",
        "plt.show()"
      ],
      "execution_count": 24,
      "outputs": []
    },
    {
      "cell_type": "code",
      "metadata": {
        "id": "Zdw-q-B_7WV6",
        "colab_type": "code",
        "colab": {
          "base_uri": "https://localhost:8080/",
          "height": 34
        },
        "outputId": "085064d0-0fea-4d32-f131-4e1202750715"
      },
      "source": [
        "# generate some example values for the loss training line\n",
        "if not testModel:\n",
        "    plotter = LossAccPlotter(show_acc_plot=False, save_to_filepath=\"PLOTS/KITTI/XYZ-all_SIFT_Loss.png\")\n",
        "    train_lossList = np.array(train_lossList)\n",
        "    test_lossList = np.array(test_lossList)\n",
        "\n",
        "    # add them all\n",
        "    for epoch, value in enumerate(train_lossList):\n",
        "        # deactivate redrawing after each update\n",
        "        plotter.add_values(epoch, loss_train=value, loss_val=test_lossList[epoch], redraw=False)\n",
        "\n",
        "    # redraw once at the end\n",
        "    plotter.redraw()\n",
        "\n",
        "    plotter.block()"
      ],
      "execution_count": 25,
      "outputs": []
    }
  ],
  "metadata": {
    "kernelspec": {
      "name": "tfm",
      "display_name": "TFM"
    },
    "colab": {
      "name": "KITTI_Pytorch-RNN_LSTM-sensorsFV.ipynb",
      "provenance": []
    },
    "accelerator": "GPU"
  },
  "nbformat": 4,
  "nbformat_minor": 0
}
